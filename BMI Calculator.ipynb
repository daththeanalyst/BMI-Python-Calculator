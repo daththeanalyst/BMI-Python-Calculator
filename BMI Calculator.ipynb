{
 "cells": [
  {
   "cell_type": "markdown",
   "id": "8f6e8bae-f26b-49ae-a78a-ee76ccb4a63e",
   "metadata": {},
   "source": [
    "# BMI Calculator"
   ]
  },
  {
   "cell_type": "code",
   "execution_count": null,
   "id": "7a19e6aa-5b06-4542-8775-337295b43920",
   "metadata": {},
   "outputs": [],
   "source": [
    "# BMI - Classification - Health Risk\n",
    "# Under 18.5 - Underweight - Minimal\n",
    "# 18.5 - 24.9 - Normal Weight - Minimal\n",
    "# 25 - 29.9 - Overweight - Increased\n",
    "# 30 - 34.9 - Obese - High\n",
    "# 35 - 39.9 - Severely Obese - Very High\n",
    "# 40 and over- Morbidly Obese - Extremely High"
   ]
  },
  {
   "cell_type": "code",
   "execution_count": 29,
   "id": "6d7ae1ec-9ebf-44d7-861c-52059d2c4d06",
   "metadata": {},
   "outputs": [
    {
     "name": "stdin",
     "output_type": "stream",
     "text": [
      "Enter your name Dimitris\n",
      "Enter your weight in pounds:  163\n",
      "Enter your height in inches:  72\n"
     ]
    },
    {
     "name": "stdout",
     "output_type": "stream",
     "text": [
      "22.104359567901234\n"
     ]
    }
   ],
   "source": [
    "name = str(input(\"Enter your name\"))\n",
    "weight = int(input(\"Enter your weight in pounds: \"))\n",
    "height = int(input(\"Enter your height in inches: \"))\n",
    "BMI = (weight * 703) / (height * height)\n",
    "print(BMI)"
   ]
  },
  {
   "cell_type": "code",
   "execution_count": 31,
   "id": "bca95f6b-2b36-426b-a9d9-daebaf582e0a",
   "metadata": {},
   "outputs": [
    {
     "name": "stdout",
     "output_type": "stream",
     "text": [
      "Dimitris, you are normal weight\n"
     ]
    }
   ],
   "source": [
    "if BMI>0:\n",
    "    if(BMI<18.5):\n",
    "        print(name +\", you are underweight\")\n",
    "    elif(BMI<=24.9):\n",
    "        print(name +\", you are normal weight\")\n",
    "    elif(BMI<29.9):\n",
    "        print(name +\", you are overweight\")\n",
    "    elif(BMI<34.9):\n",
    "        print(name +\", you are obese\")\n",
    "    elif(BMI<39.9):\n",
    "        print(name +\", you are severely obese\")\n",
    "    elif(BMI>39.9):\n",
    "        print(name +\", you are morbidly ovese\")\n",
    "    else:\n",
    "        print(name +\", print valid inputs\")"
   ]
  },
  {
   "cell_type": "code",
   "execution_count": null,
   "id": "9bf07b3a-c1e0-48f7-a68a-27c46778f953",
   "metadata": {},
   "outputs": [],
   "source": []
  },
  {
   "cell_type": "code",
   "execution_count": null,
   "id": "f73badd6-b919-4c4f-b641-c9dbf976e983",
   "metadata": {},
   "outputs": [],
   "source": []
  },
  {
   "cell_type": "code",
   "execution_count": null,
   "id": "f1093253-2974-40f0-9343-d87dfabd21e3",
   "metadata": {},
   "outputs": [],
   "source": []
  },
  {
   "cell_type": "code",
   "execution_count": null,
   "id": "5baa53d5-bed5-4831-a431-235dd945b98b",
   "metadata": {},
   "outputs": [],
   "source": []
  },
  {
   "cell_type": "code",
   "execution_count": null,
   "id": "3113b9e0-6bc8-4610-93bc-69d97ce77a76",
   "metadata": {},
   "outputs": [],
   "source": []
  },
  {
   "cell_type": "code",
   "execution_count": null,
   "id": "cdefcd17-1e39-4a3b-a7ce-4464622fd84c",
   "metadata": {},
   "outputs": [],
   "source": []
  }
 ],
 "metadata": {
  "kernelspec": {
   "display_name": "Python 3 (ipykernel)",
   "language": "python",
   "name": "python3"
  },
  "language_info": {
   "codemirror_mode": {
    "name": "ipython",
    "version": 3
   },
   "file_extension": ".py",
   "mimetype": "text/x-python",
   "name": "python",
   "nbconvert_exporter": "python",
   "pygments_lexer": "ipython3",
   "version": "3.12.4"
  }
 },
 "nbformat": 4,
 "nbformat_minor": 5
}
